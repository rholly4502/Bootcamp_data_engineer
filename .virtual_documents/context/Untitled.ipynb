def prime(a) :
    for i in range(2,a):
        if a%i == 0:
            return "bukan prima"
    return "prima"
a = int(input(f"Masukkan angka :"))
print(prime(a))
# prime(a)
# 1 1 2 3 5 8 13



def fibonacci(a) :
    c = []
    for i in range(1,a) :
        if i == 1:
            c.append(i)
        elif i == 2:
            c.append(1)
        else :
            x = c[i-2] + c[i-3]
            c.append(x)
    return c
    
a = int(input("Masukkan angka :"))
fibonacci_sequence = fibonacci(a)

# Menggunakan map untuk mengonversi setiap angka dalam list Fibonacci menjadi string
print(','.join(map(str, fibonacci_sequence)))
# prime(a)
# 1 1 2 3 5 8 13



from pyspark.sql import SparkSession


spark = SparkSession.builder.master("local[1]")\
                    .appName('Pyspark job')\
                    .getOrCreate()

# Menampilkan versi PySpark
print('Pyspark Version : ' + spark.version)
print('Pyspark Version : ' + spark.sparkContext.version)



# filtering data 
# load bentuk
# ke database
# Load Data SalesData
RDD1 = spark.sparkContext.textFile("../context/pridenprejudice.txt")
RDD2 = spark.sparkContext.textFile("../context/stopwords.txt")


list_of_words = RDD1.flatMap(lambda x:x.split(" "))
stopwords = set(RDD2.flatMap(lambda x: x.split()).map(lambda x: x.lower()).collect())

filtered_words = list_of_words.filter(lambda x: x.lower() not in stopwords)

# Menghitung frekuensi kata
word_counts = filtered_words.map(lambda x: (x.lower(), 1)).reduceByKey(lambda a, b: a + b)

# Sort
sorted = word_counts.sortByKey(ascending=True)

# Menampilkan hasil hitung frekuensi kata
print("Word counts:", sorted.collect())

words_lenght = filtered_words.map(lambda s: len(s))
totallenght = words_lenght.reduce(lambda a,b : a+b)
print("Total Huruf:",totallenght)

# Tenang
# Jarang meliaht lawan bicara
# Cukup teknikal, agar orang awam mengerti, Konsep di tambah
# PD
# SQL pelajari
# logic 
# where jangan dibawah
# lumayan keburu, tanya semua ke user sampai semua clear
# Python belajar
# fibonachi pr
# ETL pelajari
# DWH lumayan




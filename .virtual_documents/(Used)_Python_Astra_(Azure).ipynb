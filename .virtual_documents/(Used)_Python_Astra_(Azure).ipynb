












































import this









































# Example of variable
# Example of using print with semicolon (;)
x=22
y="Hello World"
z=4.56

print(x)
print(y)
print(z)
print(x);print(y);print(z)


# Example of declare variable with comma (,)
# Example of using print with comma (,)
a,b=20,"Hello"

print(a)
print(a,b)
print(type(a), type(b)) #cara ngecek tipe data


x="Ngurah Arya"

print(x)
print(type(x))


r=s=t="Ngurah Arya" #penamaan 1 object dengan 3 variabel

print(s)


a,b,c,d,e,f="Python" #baca per karakter
print(a,b)
print(e,f)


a,b,c,d,e,f='Python' #baca per karakter
print(a,b)
print(e,f)


m=str(4) #angka 4 sebagai '4'
n=int(4) #angka 4 sebagai integer
o=float(4) #angka 4 sebagai 4.0

print(m);print(n);print(o)
print(type(m));print(type(n));print(type(o))














x=range(6) #0<=x<6
print(x)
for n in x:
  print(n)








x=range(0,100,7) #urutan bilangan antara 0 dan 100 dengan selisih 7
for n in x:
  print(n)








a=100 #a adalah integer
b=13.89756 #b adalah bilangan desimal
c=5j #c adalah bilangan kompleks

print(a);print(type(a))
print(b);print(type(b))
print(c);print(type(c))


x=10 #integer
y=15.3 #float

#konvert/casting dari integer ke float
p=float(x)

#konvert/casting dari float ke integer
q=int(y)

#konvert/casting dari integer ke kompleks
r=complex(x)

print(p);print(q);print(r)
print(type(p));print(type(q));print(type(r))











x=6 ; y=20

print("Addition:",x+y) #penjumlahan
print("Subtraction:",x-y) #pengurangan
print("Multiplication:",x*y) #perkalian
print("Division:",x/y) #pembagian
print("Modulus:",x%y) #modulo
print("Exponentiation:",x**y) #perpangkatan
print("Floor Division:",x//y) #pembagian dengan pembulatan











x=10
x += 5 #menambahkan x dengan 5 sehingga nilai x menjadi 10 + 5
print(x)








#string di python menggunakan kutip dua
a="Putra Gema"

#menggunakan kutip satu
b='Gema Nusa'

print(type(a));print(type(b))


#membuat paragraf
paragraf='''Lorem ipsum dolor sit amet,
consectetur adipiscing elit,
sed do eiusmod tempor incididunt
ut labore et dolore magna aliqua.''' #bisa menggunakan triple single quote atau double quote

print(paragraf)


paragraf2="Lorem ipsum dolor sit amet,\
consectetur adipiscing elit,\
sed do eiusmod tempor incididunt\
ut labore et dolore magna aliqua."

print(paragraf2)


#beberapa case yang ada di string
nama="Arya"

print(type(nama)) #untuk mengetahui tipe data
print(len(nama)) #untuk menghitung jumlah karakter (panjang kata)
print(nama) #untuk melihat value dari variabel nama
print(nama[3]) #untuk membaca karakter ke empat berdasarkan value dari variabel nama
print(nama[1:3]) #titik dua disini mendefinisikan sebagai
print(nama[-3:-1]) #tanda negatif disini mengartikan bahwa python membaca karakter dari belakang
print(nama+"siapa?") #menjumlahkan kata
print(nama+" "+"siapa?") #menjumlahkan kata dengan spasi
print(nama*3) #perkalian nama


data="Latihan Python"
nilai="75"
spasi=" "
nama='Someone'

print(data) #print value dari variabel data
print(len(data)) #menghitung panjang kata
print(type(nilai)) #cek tipe data dari suatu variabel

print(data.upper()) #membuat value berupa string menjadi huruf kapital semua
print(data.capitalize()) #mengubah huruf awal karakter dalam string
print(data.title()) #mengubah string menjadi format judul (huruf kapital di setiap kata)
print(data.isspace()) #buat ngecek apakah variabel data adalah spasi
print(data.isnumeric()) #buat ngecek apakah variabel data adalah numeric
print(data.swapcase()) #swapcase
print(nilai*3)

print("Python" in data) #cek apabila kata "python" ada di variabel data
print("SQL" not in data) #memastikan kata "SQL" tidak ada di variabel data
print("SQL" in data)


variabel="Training Python"

print(variabel.find("n")) #melihat index untuk huruf n ada di indeks berapa
print(variabel.find("n",7)) #sama kaya diatas, tapi diitungnya setelah indeks ke 7


number="123"
number1="ab"

print(number.zfill(10)) #membuat karakter dengan length 10
print(number1.zfill(5)) #membuat karakter dengan length 5


title="latihan"
title1="training"

print(title.center(10,"-")) #membuat karakter dengan lenght 10 dan menambahkan "-" untuk mengisi sisanya
print(title1.center(10,"-")) #sama kaya sebelumnya

print(title.replace('a','x')) #mengganti karakter











import string

kode='aiueo'
kode2='12345'
kalimat='Latihan Python'
transform=kalimat.maketrans(kode,kode2) #salah satu fungsi yang ada di package string
print(kalimat)
print(transform) #aturan ascii
print(kalimat.translate(transform)) #translate kalimat menggunakan aturan



usia=20
text="Nama saya Gema, umur saya {}"
print(text.format(usia))


qty=6
produk_no=567
harga=100000
order="saya mau membeli {} buah produk {} dengan harga {}"
print(order.format(qty,produk_no,harga)) #harus sesuai urutan


qty=6
produk_no=567
harga=100000
order="saya mau membeli {1} buah produk {2} dengan harga {0}" #isi bracket dengan index
print(order.format(harga, qty, produk_no))














print(10 < 9) #False
print(10 == 9) #False
print(10 > 9) #True


#contoh sederhana menggunakan if else

a=10
b=7

if b > a:
  print("b lebih besar dari a")
else:
  print("b lebih kecil dari a")


#beberapa case dengan output boolean TRUE

print(bool('Putra'))
print(bool(15))
print(bool(['mangga','jeruk','apel']))


#beberapa case dengan output boolean FALSE

print(bool(False))
print(bool(None))
print(bool(0))
print(bool(''))
print(bool(()))
print(bool([]))
print(bool({}))









a=None
b=0
c=False
d=''
print(type(a))
print(type(b))
print(type(c))
print(type(d))


x=None

if x is True:
  print("Do you think None is True?")
elif x is False:
  print("Do you think None is False")
else:
  print("None is not True or False, None is just None")














data=[75, 'Nilai', 80.6, 50] #kurung digunakan untuk tipe data list, bisa berisi beberapa tipe data

print(data)
print(type(data))
print(data[0]) #membaca data pertama dari list yang ada (index 0)
print(len(data)) #untuk menghitung jumlah value yang ada di list





nilai=[95,70,75,65,11]
print(nilai[0]) #output berupa nilai pertama yang ada di list (index 0)
print(nilai[0:2]) #output berupa nilai pertama dan kedua yang ada di list (index 0 dan 1)
print(nilai[0:]) #output berupa nilai pertama sampe nilai terakhir (index 0 sampai batas nilai terakhir)
print(nilai[:2]) #output nilai pertama sampe batas nilai ke satu (index 0 sampe 2)
print(nilai*3) #output nilai yang diulang sebanyak 3 kali
nilai[4]=120 #semacam fungsi replace
print(nilai)
nilaibaru=nilai+[90,25,105] #menambahkan value dalam list lebih dari satu
print(nilaibaru)
nilai.append(900) #menambahkan sebuah value dalam list
print(nilai)

print('Nilai baru: ',nilaibaru)
nilaibaru.sort() #mengurutkan nilai dalam list dari kecil ke besar (ascending)
print('Nilai baru setelah di sort: ', nilaibaru)
nilaibaru.reverse() #mengurutkan nilai dalam list dari besar ke kecil (descending)
print('Nilai baru dari besar ke kecil: ', nilaibaru)




isi=['Sample','Training','Latihan']
isi.sort() #mengurutkan sesuai abjad
print(isi)
nilai=[50,60,70]
nilai.sort(reverse=True) #mengurutkan dari besar ke kecil (sama kaya .reverse)
print(nilai)


kata = ['abc','ABD',"aBe","aBd"]
kata.sort()
print(kata)
#fungsi key berguna untuk mengurutkan karakter bds sifat yang digunakan
#parameter [abc, abd, abe, abd]
kata.sort(key=str.lower)
print(kata)


angka=[90,20,76,89,34,57]
angka.append(78) #menambahkan sebuah angka di paling belakang
print(angka)
angka.insert(2,75) #menyisipkan angka sesuai yang diinginkan
print(angka)
angka[5]=20
print(angka)
print('Angka 20 ada sebanyak: ', angka.count(20))
angka.remove(20) #menghapus nilai tertentu (1 doang)
print(angka)
angka.remove(20) #menghapus yang satunya lagi
print(angka)


data = ["Sample",[90,22,34,75],75.75]
print(data[0]) #output Sample
print(data[1]) #outputnya berupa list
print(data[1][2]) #memnculkan data pada list dalam list (multi dimentional array)
print(data[1][3])


judul = "Latihan untuk Training Python"
print(judul.split(" ")) #Melakukan split karakter terhadap variabel lalu membuat tipe data string menjadi bentuk list




















data=(4, 60, 25, 39, 18) #tuple menggunakan tanda kurung biasa ()
print(data)
print(len(data))
print(type(data))



#test tuple bisa diubah atau ngga
#print(data)
#data[2]=20


thistuple=("apple") #ini bukan tuple
print(type(thistuple))

thistuple=("mango",) #membuat tuple dengan 1 elemen di dalamnya
print(type(thistuple))



data=(1,2,3,4,5)
print(data+(6,7,8)) #menambahkan elemen di tuple

month=("Jan", "Feb", "Mar") #ini case yang string
print(month+("Apr", "May", "Jun"))


isidata=("latihan","python","hari","keempat")
print(type(isidata))
separator=" "
hasil=separator.join(isidata) #menggabungkan elemen tuple sekaligus mengubah tipe datanya menjadi string
print(hasil)
print(type(hasil))


data=("abc", 30, True, 34.5, "60") #elemen tuple bisa berbagai macam tipe data
print(data)
print(type(data))


thistuple=tuple(("Apple", "Mango", "Cherry")) #mengubah tipe data variabel menjadi tuple
print(thistuple)
print(type(thistuple))


thistuple=tuple(("apple"))
print(thistuple)


thistuple = ("apple", "banana", "cherry", "orange", "kiwi", "melon", "mango")
print(thistuple[-1])
print(thistuple[2:5])


#update tuple
x=("apple", "Banana", "Mango")
y=list(x) #convert tuple menjadi list

y[1]="Kiwi"
x=tuple(y) #update data di list

print(x)
print(type(x)) #convert lagi menjadi tuple


x=("apple", "Banana", "Mango")
x.count('apple')








thisset={1, 3, 4} #tipe data set menggunakan tanda kurung kurawal {}
print(thisset)
print(type(thisset))


thisset={1, 1, 2, 2, 3, 4, 5} #gabisa duplicate value
print(thisset)
print(len(thisset))


set1={'abc', 60, True, 60.5, "60"} #set bisa terdiri atas berbagai macam tipe data
print(type(set1))


data=set(("Apple", "Banana")) #mengubah tipe data tuple menjadi set
print(data)
print(type(data))


#cek index di set
data={'abc', 60, True, 60.5, "60"}
print(data)
#print(data[1]) #ternyata gabisa ya ges ya





thisset={"apple", "Banana", "Mango"}

for x in thisset:
  print(x)


this={"apple", "Banana", "Mango"}

for x in this:
  print(x,end=" ")


this={"apple", "Banana", "Mango"}
print("Banana" in this)


this={"apple", "Banana", "Mango"}
this.add("Orange") #menambahkan elemen di set
print(this)


thisset={"apple", "Banana", "Mango"}
buahlain={"orange", "Avocado"}
lagi={"pear","melon"}
thisset.update(buahlain, lagi) #untuk gabungin 3 set
print(thisset)


thisset={"apple", "Banana", "Mango"}
buah_list=["orange", "Avocado"]
thisset.update(buah_list) #untuk gabungin 3 set
print(thisset)


thisset = {"apple", "banana", "cherry"}
thisset.remove("banana") #kalo value ga ada error
print(thisset)


thisset = {"apple", "banana", "cherry"}
thisset.discard("banaaa") #kalo value ga ada ga error
print(thisset)


thisset = {"apple", "banana", "cherry"}
x = thisset.pop() #mendefinisikan ke variabel nilai yang di-pop (yang terhapus)
print(x) #nampilin nilai yg terhapus
print(type(x))
print(thisset) #nampilin set setelah ada nilai yg dihapus


thisset = {"apple", "banana", "cherry"}
thisset.clear() #metode untuk menghapus semua item di set
print(thisset)


thisset = {"apple", "banana", "cherry"}
del thisset #menghapus keseluruhan set
#print(thisset) #-> gabisa ditampilin karena setnya dihapus




















isi={'nilai':75, 'deskripsi':'Testing','hasil':50} #key:value
print(isi)
print(type(isi))
print(isi.keys()) #untuk melihat key dalam dictionary
print(isi.values()) #untuk melihat value dalam dictionary
print(isi.items()) #untuk melihat elemen dalam dictionary berupa key, value
print(len(isi))


#untuk melihat value berdasarkan key yang dipilih
print(isi['deskripsi'])
x=isi.get('deskripsi')
print(x)


isi={'nilai':75, 'deskripsi':'Testing','hasil':50, 'hasil':100} #dictionary tidak boleh memiliki key yang duplikat
print(isi)
print(type(isi))


isi[500]='sample' #menambahkan value baru dan memperlihatkan bahwa key ga harus selalu string
print(isi)


car={
    'brand':'Ford',
    'model':'Mustang',
    'year': 1964
}

x=car.keys()

print(x) #sebelum ditambahkan value baru

car['color']='white'

print(x) #setelah ditambahkan value baru

print(car)


biodata={} #membuat dictionary dengan lebih dinamis menggunakan empty dictionary
biodata['nama']='Putra Gema Nusa'
biodata['email']='putragemanusa@gmail.com'
biodata['usia']=18
print(biodata)
biodata['usia']=20 #update value dari suatu key
print(biodata)


x=set('tri')
print(x)
y=set([2,3,1,1])
print(y)


z=dict(zip(x,y))
print(z)
print(type(z))


a=['a','b']
b=[1,2]
c=dict(zip(a,b))
print(a);print(b);print(c)




















a=115

if a>100:
  print('a is big number') #output jika a memenuhi kondisi pertama
else:
  print('a is small number') #output jika a tidak memenuhi kondisi pertama


#if else untuk 2 kondisi terdefinisi

m=100

if m<100: #kondisi 1
  print('small number')
elif m>100: #kondisi 2
  print('medium number')
else: #kondisi lainnya
  print('big number')


#if else dengan 2 kondisi, dan variabel yang didefinisikan memenuhi 2 kondisi tersebut

n=125

if n<100: #kondisi 1
  print('small number')
elif n<150: #kondisi 2
  print('medium number')
else: #kondisi lainnya
  print('big number')


#if else untuk string

isi='mobil'

if 'a' in isi: #ngecek apakah huruf a ada di kata mobil
  print('terdapat huruf a')
else:
  print('tidak terdapat huruf a')


#if else untuk membandingkan 2 variabel

bilangan1= 20
bilangan2= 20

if bilangan1 == bilangan2:
  print('bilangan1 sama dengan bilangan2')
else:
  print('bilangan1 tidak sama dengan bilangan2')


x=0
y=0

if x<0 and y<0:
  print('x dan y bilangan negatif')
elif x<0 and y>0:
  print('x bilangan negatif dan y bilangan positif')
elif x>0 and y<0:
  print('x bilangan positif dan y bilangan negatif')
elif x>0 and y>0:
  print('x dan y bilangan positif')
elif x==0 and y==0:
  print('keduanya 0')
else:
  print('salah satunya ada yang 0')








for x in range(1,6): #membaca range melalui proses looping
  print(x)


for nilai in range(2,11,2): #kita tentukan batas awal dan akhir serta beda range yang digunakan
  print(nilai)


for nilai in range(10, 1, -2): #kita tentukan batas awal dan akhir serta beda range yang digunakan
  print(nilai)


#for untuk string

isi='training'

for x in isi:
  print(x)


#for untuk list

data=['testing', 'sample', 'coba']

for x in data:
  print(x)

#mencetak indeks dan nilai secara bersamaan
for idx, x in enumerate(data):
  print(idx,x)


buah=['apple','banana','manggo']
warna=['red','yellow','green']

for buah, warna in zip(buah, warna):
  print(f"the color of {buah} is {warna}")


#for pada dictionary, ngebaca key

member = {"nama":"someone","nilai":75,"kredit":15000} #untuk membaca key dict
print(member)

print(" ") #bertindak sebagai enter

for k in member:
    print(k)


print("\n")

for k in member:
    print(member[k])

print(" ")

for k in member:
  print(k, "=", member[k])


#for pada dictionary, ngebaca key dan value

member = {"nama":"someone","nilai":75,"kredit":15000} #untuk membaca anggota list
print(member)
print(member.items())

print(" ")

for (k,v) in member.items(): #menggunakan hasil dari member.items
    print(k,"=",v)












print('Membuat Barisan Bilangan Ganjil atau Genap')

print('\nMasukan Nilai Awal dan Nilai Akhir (nilai_awal < nilai_akhir)')
nilai_awal=int(input('Nilai Awal: '))
nilai_akhir=int(input('Nilai Akhir: '))

print('''\nMau Barisan Bilangan Apa?
1. Ganjil
2. Genap''')

pilihan=int(input('1 atau 2? '))

print(' ')

if pilihan not in [1,2]:
  print('Pilihan Salah!')
else:
  for x in range(nilai_awal, nilai_akhir+1):
    if pilihan == 1 and x % 2 == 1:
      print(x,end=' ')
    elif pilihan == 2 and x % 2 == 0:
      print(x,end=' ')








# while True:
#   print('Welcome to Celerates Training') #do something


angka = 0

while angka < 5:
  print('Welcome to Celerates Training')
  angka += 1


angka = 1

while angka < 10:
  print('Bilangan ke: ', angka)
  angka += 2 #syarat supaya berhenti
else: #while bisa ditambahin blok else
  print('Loop diakhiri dengan bilangan: ', angka)


import random

jawaban = random.randint(1,10)
tebakan = int(input('Pilih bilangan antara 1 - 10: '))

while tebakan != jawaban:
  tebakan=int(input('Salah Woy! Coba pilih lagi 1-100: '))

print('Selamat! Tebakan Anda Benar')








#block exception handling
#run error namun masih bisa dijalankan
#block except bisa lebih satu
#block finally bisa ditambahkan tanpa syarat tertentu untuk menjalankan running
#kalo sukses try langsung ke finally
#jika error try ke except baru ke finally

a = 4
b = 'test'
# c = a + b
# print(c)
try:
  c=a+b
  print(c)
except Exception as error:
  print('error: ', error)


a = 4
b = 'test'
# c = a + b
# print(c)
try:
  c=a+b
  print(c)
except Exception as error:
  print('error: ', error)
finally:
  print('Done!')


isi=[1,2,3,4,5]
#print(isi[6])

try:
  print(isi[6])
except IndexError as a:
  print('Error:', a)
except Exception as e:
  print('Error:', e)
finally:
  print('Done!')



isi=[1,2,3,4,5]
#print(isi['Test'])

try:
  print(isi['Test'])
except IndexError as a:
  print('No Data Available')
except TypeError as e:
  print('Index Must be Numeric')
except Exception as b:
  print('error:', b)
finally:
  print('Done!')


while True:
  try:
    x=float(input('Masukkan Bilangan Pertama: '))
    y=float(input('Masukkan Bilangan Kedua: '))
    result=x/y
    print('Hasil Pembagiannya adalah ', result)
    break
  except ValueError:
    print('Anda harus masukkan bilangan')
  except ZeroDivisionError:
    print('Bilangan kedua tidak boleh nol')
  except Exception as a:
    print('Error:', a)








def pesan(): #deklarasi untuk membuat function
  print('Welcome')
  return #harus ada, dia sebagai akhiran dari fungsi def dan bisa sebagai pengembalian nilai dr sebuah function


pesan()


def perkalian(x,y):
  print(x*y)



perkalian(2,7)


def message(pesan): #dengan argumen ditandai dengan tanda kurungnya diisi suatu nilai/argumen
  print(pesan)


message('Selamat Datang') #jenis 1
message(pesan='Selamat Datang') #jenis 2











def pembagian(x=1,y=1):
  return x/y

print('Pembagian 20 dengan 3 adalah ', pembagian(20,3))
pembagian()
pembagian(25)


def nilai(x,y,z):
  return (x+y)/z

print(nilai(2,3,5))


def jumlah(x,y,z):
  return x+y+z

print(jumlah('20', '35', '27')) #kalo string, jadinya nyatuin


def add_number(x,y):
  result=x+y
  return result

num1=float(input("masukkan nilai x: "))
num2=float(input('masukkan nilai y: '))

sum=add_number(num1,num2)
print("jumlah dari x dan y adalah ", sum)


#menghitung luas dan keliling lingkaran
import math

def hitung_keliling(jari_jari):
  keliling=2*math.pi*jari_jari
  return keliling

def hitung_l(jari_jari):
  luas=math.pi*jari_jari*jari_jari
  return luas

r=float(input('Masukkan panjang jari-jari lingkaran: '))

kll=hitung_keliling(r)
L=hitung_l(r)

print('Keliling lingkaran adalah ', kll)
print('Luas lingkaran adalah ', L)


#Rifat Muhammad (menghitung volume dan luas permukaan tabung)
def hitung_luas_permukaan_tabung(jari_jari, tinggi):
    luas_permukaan = 2 * math.pi * jari_jari * (jari_jari + tinggi)
    return luas_permukaan

def hitung_volume_tabung(jari_jari, tinggi):
    volume = math.pi * jari_jari * jari_jari * tinggi
    return volume

r = float(input('Masukkan jari-jari tabung: '))
t = float(input('Masukkan tinggi tabung: '))

luas_permukaan = hitung_luas_permukaan_tabung(r, t)
volume = hitung_volume_tabung(r, t)

print('Luas permukaan tabung adalah', luas_permukaan)
print('Volume tabung adalah', volume)


def jumlah(x,y):
  if x.isdigit() & y.isdigit():
    return int(x)+int(y)
  else:
    return 'Sorry, Number Only'

print(jumlah("2","3"))
print(jumlah("2","3a"))
#print(jumlah(2,3))


def jumlah(x,y):
  if isinstance(x,int) & isinstance(y,int):
    return x+y
  elif isinstance(x,str) & isinstance(y,str):
    if x.isdigit() & y.isdigit():
      return int(x)+int(y)
    else:
      return 'Sorry, Number Only'

print(jumlah(3,4))
print(jumlah('3','4'))
print(jumlah('3a','4a'))


#Syafiq Ama Syauqillah
def jumlah(x, y):
  if isinstance(x, int) and isinstance(y, int):
    return x + y
  elif isinstance(x, str) and isinstance(y, int):
    if x.isdigit():
      return int(x) + y
    else:
      return 'Sorry, Number Only'
  elif isinstance(x, int) and isinstance(y, str):
    if y.isdigit():
      return x + int(y)
    else:
      return 'Sorry, Number Only'
  elif isinstance(x, str) and isinstance(y, str):
    if x.isdigit() & y.isdigit():
      return int(x) + int(y)
    else:
      return 'Sorry, Number Only'

print(jumlah(3,4))
print(jumlah('3','4'))
print(jumlah('3a','4a'))
print(jumlah(3,'4'))
print(jumlah('3',4))
print(jumlah('3a',4))


#membuat function untuk tipe data yang memiliki banyak nilai
def totaldata(nilai):
  total=0
  if isinstance(nilai, list) | isinstance(nilai,tuple):
    for value in nilai:
      total += value
  return total

print(totaldata([1,2,3,4,5,6,7,8,9,10]))

print(totaldata((1,2,3,4,5)))








perkalian=lambda x,y: x*y; #seperti variabel tapi isinya function

print(perkalian(5,4))
print(perkalian(5,'a'))








class biodata:
  basicsalary = 5000000

  def isidata(self, nama, telp):
    self.fullname = nama
    self.phone = telp

  def cetakdata(self):
    print('Full Name: ', self.fullname)
    print('Phone Number: ', self.phone)


data = biodata()

data.isidata("Gema", "12345678")
data.cetakdata()


data.email = 'putragemanusa@gmail.com' #untuk menambahkan properti
hasattr(data,'Gender') #buat ngecek properti Gender ada atau tidak
hasattr(data,'Email') #buat ngecek properti Email ada atau tidak
setattr(data,'Gender','Male') #buat nambahin properti Gender dan objeknya



hasattr(data,'Gender')


hasattr(data,'email')


#panggil semua properti yang ada di biodata
print('Nama: ', data.fullname)
print('Gender: ', data.Gender)
print('No_telp: ', data.phone)
print('Gaji: ', data.basicsalary)
print('Email: ', data.email)


class person:
  def info(self,nama):
    self.fullname=nama
    if hasattr(self,'title'): #untuk ngeliat punya atribut/tidak
      title=getattr(self,'title') #untuk baca isi titlenya
      self.pesan='Welcome, '+title+' '+nama
    else:
      self.pesan='Welcome, '+nama


#membuat objek dengan title menggunakan kelas person
p=person()
p.title='Mr.'
p.info('Putra')
p.pesan


#membuat objek tanpa title menggunakan kelas person
q=person()
q.info('Gema')
q.pesan

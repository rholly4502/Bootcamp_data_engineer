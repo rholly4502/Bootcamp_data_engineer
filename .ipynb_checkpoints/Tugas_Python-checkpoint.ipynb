{
 "cells": [
  {
   "cell_type": "code",
   "execution_count": null,
   "metadata": {
    "colab": {
     "base_uri": "https://localhost:8080/"
    },
    "id": "fWUNGm7RUgV1",
    "outputId": "be95d463-097f-4aa2-e801-e8434ef4bab5"
   },
   "outputs": [
    {
     "name": "stdout",
     "output_type": "stream",
     "text": [
      "20\n"
     ]
    }
   ],
   "source": [
    "a,b,c = 20,\"abc\",\"bcd\"\n",
    "print(a)"
   ]
  },
  {
   "cell_type": "code",
   "execution_count": null,
   "metadata": {
    "colab": {
     "base_uri": "https://localhost:8080/"
    },
    "id": "k_kD_S66Ukru",
    "outputId": "211f1b8a-c888-47c3-af3a-b2ca14599585"
   },
   "outputs": [
    {
     "name": "stdout",
     "output_type": "stream",
     "text": [
      "x\n",
      "xx\n",
      "xxx\n",
      "xxxx\n",
      "xxxxx\n"
     ]
    }
   ],
   "source": [
    "x = range(1,6)\n",
    "for n in x:\n",
    "  if n<10:\n",
    "    print('x'*n)\n",
    "  else:\n",
    "    continue"
   ]
  },
  {
   "cell_type": "code",
   "execution_count": null,
   "metadata": {
    "colab": {
     "base_uri": "https://localhost:8080/"
    },
    "id": "0Ixem_2BeGEY",
    "outputId": "7fe4c4c1-1d87-4094-96d9-14af454bf733"
   },
   "outputs": [
    {
     "name": "stdout",
     "output_type": "stream",
     "text": [
      "<class 'str'>\n",
      "4\n",
      "arya\n",
      "a\n",
      "ry\n",
      "ayr\n",
      "ry\n",
      "aryaSiapa ?\n",
      "aryaSiapa ?\n",
      "aryaaryaarya\n",
      "ya\n"
     ]
    }
   ],
   "source": [
    "nama = \"arya\"\n",
    "\n",
    "print(type(nama))\n",
    "print(len(nama))\n",
    "print(nama.lower())\n",
    "print(nama[3])\n",
    "print(nama[1:3])\n",
    "print(nama[3:0:-1])\n",
    "print(nama[-3:-1])\n",
    "print(nama + \"Siapa ?\")\n",
    "print(nama +\"\" + \"Siapa ?\")\n",
    "print(nama * 3)\n",
    "print(nama[2:4])"
   ]
  },
  {
   "cell_type": "code",
   "execution_count": null,
   "metadata": {
    "colab": {
     "base_uri": "https://localhost:8080/"
    },
    "id": "g_iisuICi5Aj",
    "outputId": "c40e38e4-91d8-443c-c66f-813d812eaccb"
   },
   "outputs": [
    {
     "name": "stdout",
     "output_type": "stream",
     "text": [
      "4\n",
      "6\n",
      "14\n",
      "4\n"
     ]
    }
   ],
   "source": [
    "variabel = \"Training Python\"\n",
    "\n",
    "i = 0\n",
    "for n in variabel:\n",
    "  if n == \"n\":\n",
    "    print (i)\n",
    "  i=i+1\n",
    "print(variabel.find(\"n\"))"
   ]
  },
  {
   "cell_type": "code",
   "execution_count": null,
   "metadata": {
    "colab": {
     "base_uri": "https://localhost:8080/"
    },
    "id": "W6-NfFqUmehz",
    "outputId": "fa68933d-dc47-4499-a953-99eecf05fdcb"
   },
   "outputs": [
    {
     "name": "stdout",
     "output_type": "stream",
     "text": [
      "Latihan Python\n",
      "{97: 49, 105: 50, 117: 51, 101: 52, 111: 53}\n",
      "L1t2h1n Pyth5n\n"
     ]
    }
   ],
   "source": [
    "import string\n",
    "\n",
    "kode = \"aiueo\"\n",
    "kode2 = \"12345\"\n",
    "kalimat= \"Latihan Python\"\n",
    "transform = kalimat.maketrans(kode,kode2)\n",
    "print(kalimat)\n",
    "print(transform)\n",
    "print(kalimat.translate(transform))"
   ]
  },
  {
   "cell_type": "code",
   "execution_count": null,
   "metadata": {
    "colab": {
     "base_uri": "https://localhost:8080/"
    },
    "id": "xIpCyEjgpPWD",
    "outputId": "7a644b81-97db-4713-9fcb-c5c06c607a76"
   },
   "outputs": [
    {
     "name": "stdout",
     "output_type": "stream",
     "text": [
      "[1, 2, 3]\n",
      "4\n"
     ]
    }
   ],
   "source": [
    "list = [1,2,3,4,5]\n",
    "list.remove(5)\n",
    "b = list.pop(3)\n",
    "print(list)\n",
    "print(b)"
   ]
  },
  {
   "cell_type": "code",
   "execution_count": null,
   "metadata": {
    "id": "c-lyZtcwtzWD"
   },
   "outputs": [],
   "source": [
    "with open('test.txt','wt') as f:\n",
    "  print('Hello World',file=f)"
   ]
  },
  {
   "cell_type": "code",
   "execution_count": null,
   "metadata": {
    "colab": {
     "base_uri": "https://localhost:8080/",
     "height": 35
    },
    "id": "vlshglnyuoFc",
    "outputId": "9f1e0f50-a781-4792-dc7a-f6cf67995c17"
   },
   "outputs": [
    {
     "data": {
      "application/vnd.google.colaboratory.intrinsic+json": {
       "type": "string"
      },
      "text/plain": [
       "'utf-8'"
      ]
     },
     "execution_count": 16,
     "metadata": {},
     "output_type": "execute_result"
    }
   ],
   "source": [
    "import sys\n",
    "sys.getfilesystemencoding()"
   ]
  },
  {
   "cell_type": "code",
   "execution_count": null,
   "metadata": {
    "colab": {
     "base_uri": "https://localhost:8080/"
    },
    "id": "7Fi8C3UyC96x",
    "outputId": "53f61e96-96d8-4041-cff3-d73f39c5baad"
   },
   "outputs": [
    {
     "name": "stdout",
     "output_type": "stream",
     "text": [
      "How many apples do you have ?19\n",
      "How many pizza do you have ?5\n",
      "You'll have to go to store right now !!\n"
     ]
    }
   ],
   "source": [
    "def is_a_party(apples,pizza):\n",
    "  if apples > 10 and pizza > 10:\n",
    "    return True\n",
    "  else:\n",
    "    return False\n",
    "\n",
    "def throw_party():\n",
    "  num_apples = int(input(\"How many apples do you have ?\"))\n",
    "  num_pizzas = int(input(\"How many pizza do you have ?\"))\n",
    "\n",
    "  if is_a_party(num_apples,num_pizzas):\n",
    "    return \"Dude Lets Party Again\"\n",
    "  else:\n",
    "    return \"You'll have to go to store right now !!\"\n",
    "\n",
    "print(throw_party())"
   ]
  },
  {
   "cell_type": "code",
   "execution_count": null,
   "metadata": {
    "colab": {
     "base_uri": "https://localhost:8080/"
    },
    "id": "pthe04p9EoYG",
    "outputId": "0bf18050-af93-4789-c360-cc3b61b118fb"
   },
   "outputs": [
    {
     "name": "stdout",
     "output_type": "stream",
     "text": [
      " \n",
      "  Menu :\n",
      "\n",
      "  Coffe Size:\n",
      "  Small coffee  : $2.00\n",
      "  Medium coffee : $3.00\n",
      "  Large coffee  : $4.00\n",
      "\n",
      "  Add-On:\n",
      "  Milk : $0.50\n",
      "  Sugar : $0.25\n",
      "  Cream : $0.75\n",
      "  Whipped Cream : $1.00\n",
      "\n",
      "  Pastries:\n",
      "  Muffin : $2.50\n",
      "  Croissant : $3.00\n",
      "  Donut : $1.50\n",
      "  \n",
      "Choose your coffee size(small/medium/large) : large\n",
      "Any Add-ons : cream\n",
      "Choose the pantries : muffin\n",
      "$7.25\n"
     ]
    }
   ],
   "source": [
    "def coffe_total(coffee):\n",
    "  if coffee == \"small\":\n",
    "    return 2.00\n",
    "  elif coffee == \"medium\":\n",
    "    return 3.00\n",
    "  elif coffee == \"large\":\n",
    "    return 4.00\n",
    "  else:\n",
    "    return 0\n",
    "\n",
    "def add_on_total(add_on):\n",
    "  if add_on == \"milk\":\n",
    "    return 0.50\n",
    "  elif add_on == \"sugar\":\n",
    "    return 0.25\n",
    "  elif add_on == \"cream\":\n",
    "    return 0.75\n",
    "  elif add_on == \"whipped cream\":\n",
    "    return 1.00\n",
    "  else:\n",
    "    return 0\n",
    "\n",
    "def pantries_total(pantries):\n",
    "  if pantries == \"muffin\":\n",
    "    return 2.50\n",
    "  elif pantries == \"croissant\":\n",
    "    return 3.00\n",
    "  elif pantries == \"donut\":\n",
    "    return 1.50\n",
    "  else:\n",
    "    return 0\n",
    "\n",
    "def order():\n",
    "  coffee_size = (input(\"Choose your coffee size(small/medium/large) : \")).lower()\n",
    "  add_on = (input(\"Any Add-ons : \")).lower()\n",
    "  pantries = (input(\"Choose the pantries : \")).lower()\n",
    "  return coffe_total(coffee_size) + add_on_total (add_on) + pantries_total (pantries)\n",
    "\n",
    "Menu= '''\n",
    "  Menu :\n",
    "\n",
    "  Coffe Size:\n",
    "  Small coffee  : $2.00\n",
    "  Medium coffee : $3.00\n",
    "  Large coffee  : $4.00\n",
    "\n",
    "  Add-On:\n",
    "  Milk : $0.50\n",
    "  Sugar : $0.25\n",
    "  Cream : $0.75\n",
    "  Whipped Cream : $1.00\n",
    "\n",
    "  Pastries:\n",
    "  Muffin : $2.50\n",
    "  Croissant : $3.00\n",
    "  Donut : $1.50\n",
    "  '''\n",
    "\n",
    "total = 0\n",
    "\n",
    "print(Menu);\n",
    "print(f\"${order()}\");"
   ]
  },
  {
   "cell_type": "code",
   "execution_count": null,
   "metadata": {
    "colab": {
     "base_uri": "https://localhost:8080/"
    },
    "id": "jq1HaauCQhVp",
    "outputId": "dca4d965-d757-4cb7-96ff-253d6373f9ed"
   },
   "outputs": [
    {
     "name": "stdout",
     "output_type": "stream",
     "text": [
      "Penambahan[[3 8 2]\n",
      " [6 4 3]\n",
      " [4 4 5]]\n",
      "Pembagian[[2.         1.         1.        ]\n",
      " [2.         0.33333333 0.5       ]\n",
      " [1.         1.         0.25      ]]\n",
      "Perkalian[[ 2 16  1]\n",
      " [ 8  3  2]\n",
      " [ 4  4  4]]\n",
      "Pangkat[[ 4 16  1]\n",
      " [16  1  1]\n",
      " [ 4  4  1]]\n",
      "Perkalian dot[[12 22 14]\n",
      " [ 8 21 10]\n",
      " [ 8 16 10]]\n"
     ]
    }
   ],
   "source": [
    "import numpy as np\n",
    "\n",
    "arr1 = np.random.randint(1,5,size=(3,3))\n",
    "arr2 = np.random.randint(1,5,size=(3,3))\n",
    "\n",
    "\n",
    "\n",
    "print(f\"Penambahan{arr1 + arr2}\")\n",
    "print(f\"Pembagian{arr1 / arr2}\")\n",
    "print(f\"Perkalian{arr1 * arr2}\")\n",
    "print(f\"Pangkat{arr1 ** 2}\")\n",
    "print(f\"Perkalian dot{arr1.dot(arr2)}\")"
   ]
  },
  {
   "cell_type": "code",
   "execution_count": null,
   "metadata": {
    "colab": {
     "base_uri": "https://localhost:8080/"
    },
    "id": "2gCpee0NXFhv",
    "outputId": "ff0e8538-1f0d-4346-ec31-ebc44bd42085"
   },
   "outputs": [
    {
     "name": "stdout",
     "output_type": "stream",
     "text": [
      "nama saya test status saya single\n",
      "nama saya test2 status saya single\n"
     ]
    }
   ],
   "source": [
    "class person:\n",
    "  def __init__(self,name,status):\n",
    "    self.name = name\n",
    "    self.status = status\n",
    "\n",
    "  def show(self):\n",
    "    print(f'nama saya {self.name} status saya {self.status}')\n",
    "\n",
    "person1 = person('test','single')\n",
    "person2 = person('test2','single')\n",
    "# print(person1.name)\n",
    "# print(person1.status)\n",
    "# print(person2.name)\n",
    "# print(person2.status)\n",
    "person1.show()\n",
    "person2.show()"
   ]
  },
  {
   "cell_type": "code",
   "execution_count": null,
   "metadata": {
    "colab": {
     "base_uri": "https://localhost:8080/"
    },
    "id": "75SXgQGDZUHg",
    "outputId": "9854c306-686c-417f-ddd1-a5237ba54a81"
   },
   "outputs": [
    {
     "name": "stdout",
     "output_type": "stream",
     "text": [
      "nama karakter Jhin Damage 40 Senjata Tongkat\n",
      "nama karakter Sam Damage 150 Senjata Pedang\n",
      "nama karakter Rey Damage 200 Senjata Gloves\n"
     ]
    }
   ],
   "source": [
    "class game:\n",
    "    def __init__(self, Game_Name):\n",
    "        self.game_name = Game_Name\n",
    "\n",
    "class healer(game):\n",
    "    def __init__(self, Nama_karakter, Damage, Senjata):\n",
    "        super().__init__('WAR')\n",
    "        self.name = Nama_karakter\n",
    "        self.Damage = Damage\n",
    "        self.Senjata = Senjata\n",
    "\n",
    "    def skills(self, healing):\n",
    "        self.skill = healing\n",
    "\n",
    "    def showhealer(self):\n",
    "        print(f'nama karakter {self.name} Damage {self.Damage} Senjata {self.Senjata}')\n",
    "\n",
    "class knight(game):\n",
    "    def __init__(self, Nama_karakter, Damage, Senjata):\n",
    "        super().__init__('WAR')\n",
    "        self.name = Nama_karakter\n",
    "        self.Damage = Damage\n",
    "        self.Senjata = Senjata\n",
    "\n",
    "    def skills(self, rage):\n",
    "        self.skill = rage\n",
    "\n",
    "    def showknight(self):\n",
    "        print(f'nama karakter {self.name} Damage {self.Damage} Senjata {self.Senjata}')\n",
    "\n",
    "class mage(game):\n",
    "    def __init__(self, Nama_karakter, Damage, Senjata):\n",
    "        super().__init__('WAR')\n",
    "        self.name = Nama_karakter\n",
    "        self.Damage = Damage\n",
    "        self.Senjata = Senjata\n",
    "\n",
    "    def skills(self, meteor):\n",
    "        self.skill = meteor\n",
    "\n",
    "    def showmage(self):\n",
    "        print(f'nama karakter {self.name} Damage {self.Damage} Senjata {self.Senjata}')\n",
    "\n",
    "Game = game('WAR')\n",
    "healer1 = healer('Jhin', 40, 'Tongkat')\n",
    "knight1 = knight('Sam', 150, 'Pedang')\n",
    "mage1 = mage('Rey', 200, 'Gloves')\n",
    "\n",
    "healer1.showhealer()\n",
    "knight1.showknight()\n",
    "mage1.showmage()"
   ]
  },
  {
   "cell_type": "markdown",
   "metadata": {
    "id": "L0ukQc2SIILf"
   },
   "source": [
    "### login = False\n",
    "history = []\n",
    "total = 0\n",
    "\n",
    "class registrasi():\n",
    "  def __init__(self):\n",
    "    self.name = input(\"Masukkan Nama: \")\n",
    "    self.email = input(\"Masukkan Email: \")\n",
    "    global login\n",
    "    login = True\n",
    "    print(\"\\n============================================\")\n",
    "    print(f\"|Selamat Datang {self.name}, Email: {self.email}|\")\n",
    "    print(\"============================================\")\n",
    "    menu()\n",
    "      \n",
    "class deposit():\n",
    "  def __init__(self):\n",
    "    global history\n",
    "    self.uang = float(input(\"Masukkan jumlah deposit: \"))\n",
    "    history.append({'Deposit' : self.uang})\n",
    "      \n",
    "  def __str__(self):\n",
    "    if isinstance(self.uang, (int, float)):\n",
    "      return f\"\\n Deposit Success Sejumlah {self.uang}\"\n",
    "    else:\n",
    "      return f\"\\n Deposit Gagal Karena Inputan Mengandung non numeric\"\n",
    "\n",
    "class withdraw():\n",
    "  def __init__(self):\n",
    "    global total\n",
    "    self.uang = float(input(\"Masukkan jumlah uang yang ingin ditarik : \"))\n",
    "    cek_total()\n",
    "    if total > self.uang:\n",
    "        konfirmasi= input(f\"Apakah anda yakin mau menarik uang senilai {self.uang} (y/n)\")\n",
    "        if konfirmasi.lower() == 'y':\n",
    "            history.append({'Withdraw' : self.uang})\n",
    "            print(f\"\\n Uang berhasil ditarik sebesar {self.uang}\")\n",
    "    else:\n",
    "        print(\"Maaf Saldo Anda Tidak Cukup !!\")\n",
    "        \n",
    "class saldo():\n",
    "  def __init__(self):\n",
    "    global history,total\n",
    "    cek_total()\n",
    "    print(f\"\\n Total Saldo : {total}\")\n",
    "      \n",
    "class transactionHistory():\n",
    "  def __init__(self):\n",
    "    global history\n",
    "    print(f\"\\n {history}\")\n",
    "\n",
    "def loginMenu():\n",
    "    while(True):\n",
    "        MenuLogin= '''\n",
    "     ---------------\n",
    "     ||Bank Rholly||\n",
    "     ---------------\n",
    "         Menu:\n",
    "      1. Create Account.\n",
    "      2. Exit.\n",
    "      '''\n",
    "        print(MenuLogin);\n",
    "        select_menu = int(input('Pilih Menu: '))\n",
    "        if select_menu == 1:\n",
    "            reg = registrasi()\n",
    "            print(reg)\n",
    "        elif select_menu == 2:\n",
    "            break\n",
    "        else:\n",
    "            print('Maaf menu yang dipilih tidak tersedia')\n",
    "            \n",
    "def menu():\n",
    "    while(True):\n",
    "        MenuUtama= '''\n",
    "     ---------------\n",
    "     ||Bank Rholly||\n",
    "     ---------------\n",
    "         Menu:\n",
    "      1. Deposit.\n",
    "      2. Withdraw.\n",
    "      3. Saldo.\n",
    "      4. Transaction History.\n",
    "      5. Logout.\n",
    "      '''\n",
    "        print(MenuUtama);\n",
    "        select_menu = int(input('Pilih Menu: '))\n",
    "        if select_menu == 1:\n",
    "            depo = deposit()\n",
    "            print(depo)\n",
    "        elif select_menu == 2:\n",
    "            withdraw()\n",
    "        elif select_menu == 3:\n",
    "            saldo()\n",
    "        elif select_menu == 4:\n",
    "            transactionHistory()\n",
    "        elif select_menu == 5:\n",
    "            break\n",
    "            loginMenu()\n",
    "        else:\n",
    "            print('Maaf menu yang dipilih tidak tersedia')\n",
    "\n",
    "def cek_total():\n",
    "    global history,total\n",
    "    for transaction in history:\n",
    "        if 'Deposit' in transaction:\n",
    "            value = transaction['Deposit']\n",
    "            total += value\n",
    "        elif 'Withdraw' in transaction:\n",
    "            value = transaction['Withdraw']\n",
    "            total -= value\n",
    "\n",
    "if not login:\n",
    "    loginMenu()\n",
    "else:\n",
    "    menu()\n"
   ]
  },
  {
   "cell_type": "code",
   "execution_count": null,
   "metadata": {
    "scrolled": true
   },
   "outputs": [],
   "source": [
    "class User:\n",
    "    def __init__(self, name, email, password):\n",
    "        self.name = name\n",
    "        self.email = email\n",
    "        self.password = password\n",
    "\n",
    "class Bank:\n",
    "    def __init__(self):\n",
    "        self.login = False\n",
    "        self.history = []\n",
    "        self.total = 0\n",
    "        self.akun = []\n",
    "        self.akun_aktif = None\n",
    "\n",
    "    def loginAwal(self):\n",
    "        email = input(\"Masukkan Email: \")\n",
    "        password = input(\"Masukkan Password: \")\n",
    "        \n",
    "        user = next((account for account in self.akun if account.email == email and account.password == password), None)\n",
    "        \n",
    "        if user:\n",
    "            self.akun_aktif = user\n",
    "            self.login = True\n",
    "            print(\"\\n============================================\")\n",
    "            print(f\"|Selamat Datang {self.akun_aktif.name}, Email: {email}|\")\n",
    "            print(\"============================================\")\n",
    "            self.menu()\n",
    "        else:\n",
    "            print(\"Email atau Password salah!\")\n",
    "            \n",
    "    def registrasi(self):\n",
    "        name = input(\"Masukkan Nama: \")\n",
    "        email = input(\"Masukkan Email: \")\n",
    "        password = input(\"Masukkan Password: \")\n",
    "        user = next((account for account in self.akun if account.email == email), None)\n",
    "        if user == None:\n",
    "            user_baru = User(name, email, password)\n",
    "            self.akun.append(user_baru)\n",
    "            self.login = True\n",
    "            self.akun_aktif = user_baru\n",
    "            print(\"\\n============================================\")\n",
    "            print(f\"|Selamat Datang {name}, Email: {email}|\")\n",
    "            print(\"============================================\")\n",
    "            self.menu()\n",
    "        else:\n",
    "            print(\"Email Sudah Terdaftar, Mohon Masukkan Email Lain !\")        \n",
    "\n",
    "    def deposit(self):\n",
    "        uang = float(input(\"Masukkan jumlah deposit: \"))\n",
    "        konfirmasi = input(f\"Apakah anda yakin mau deposit senilai {uang} (y/n): \")\n",
    "        if konfirmasi.lower() == 'y':\n",
    "            self.history.append({'email': self.akun_aktif.email, 'Deposit': uang})\n",
    "        print(f\"\\n Deposit Success Sejumlah {uang}\")\n",
    "\n",
    "    def withdraw(self):\n",
    "        uang = float(input(\"Masukkan jumlah uang yang ingin ditarik: \"))\n",
    "        self.cek_total()\n",
    "        if self.total >= uang:\n",
    "            konfirmasi = input(f\"Apakah anda yakin mau menarik uang senilai {uang} (y/n): \")\n",
    "            if konfirmasi.lower() == 'y':\n",
    "                self.history.append({'email': self.akun_aktif.email,'Withdraw': uang})\n",
    "                print(f\"\\n Uang berhasil ditarik sebesar {uang}\")\n",
    "        else:\n",
    "            print(\"Maaf Saldo Anda Tidak Cukup!!\")\n",
    "\n",
    "    def saldo(self):\n",
    "        self.cek_total()\n",
    "        print(f\"\\n Total Saldo: {self.total}\")\n",
    "\n",
    "    def transaction_history(self):\n",
    "        print('\\n=============')\n",
    "        for transaksi in self.history:\n",
    "            if transaksi['email'] == self.akun_aktif.email:\n",
    "                print('--------------')\n",
    "                for key, value in transaksi.items():\n",
    "                    if key != 'email':\n",
    "                        print(f\"{key} || {value}\")\n",
    "        print('\\n=============')\n",
    "\n",
    "    def cek_total(self):\n",
    "        self.total = 0\n",
    "        for transaksi in self.history:\n",
    "            if transaksi['email'] == self.akun_aktif.email:\n",
    "                if 'Deposit' in transaksi:\n",
    "                    self.total += transaksi['Deposit']\n",
    "                elif 'Withdraw' in transaksi:\n",
    "                    self.total -= transaksi['Withdraw']\n",
    "\n",
    "    def login_menu(self):\n",
    "        while True:\n",
    "            menu_login = '''\n",
    "            ----------\n",
    "            ||Bank R||\n",
    "            ----------\n",
    "                Menu:\n",
    "            1. Create Account.\n",
    "            2. Login\n",
    "            3. Exit.\n",
    "            '''\n",
    "            print(menu_login)\n",
    "            select_menu = int(input('Pilih Menu: '))\n",
    "            if select_menu == 1:\n",
    "                self.registrasi()\n",
    "            elif select_menu == 2:\n",
    "                self.loginAwal()\n",
    "            elif select_menu == 3:\n",
    "                break\n",
    "            else:\n",
    "                print('Maaf menu yang dipilih tidak tersedia')\n",
    "\n",
    "    def menu(self):\n",
    "        while True:\n",
    "            menu_utama = '''\n",
    "            ----------\n",
    "            ||Bank R||\n",
    "            ----------\n",
    "                Menu:\n",
    "            1. Deposit.\n",
    "            2. Withdraw.\n",
    "            3. Saldo.\n",
    "            4. Transaction History.\n",
    "            5. Logout.\n",
    "            '''\n",
    "            print(menu_utama)\n",
    "            select_menu = int(input('Pilih Menu: '))\n",
    "            if select_menu == 1:\n",
    "                self.deposit()\n",
    "            elif select_menu == 2:\n",
    "                self.withdraw()\n",
    "            elif select_menu == 3:\n",
    "                self.saldo()\n",
    "            elif select_menu == 4:\n",
    "                self.transaction_history()\n",
    "            elif select_menu == 5:\n",
    "                print(f\"|Terima Kasih {self.akun_aktif.name} Telah Menggunakan Bank R|\")\n",
    "                self.akun_aktif = None\n",
    "                self.login = False    \n",
    "                break\n",
    "            else:\n",
    "                print('Maaf menu yang dipilih tidak tersedia')\n",
    "\n",
    "\n",
    "bank = Bank()\n",
    "bank.login_menu()\n"
   ]
  },
  {
   "cell_type": "code",
   "execution_count": null,
   "metadata": {},
   "outputs": [],
   "source": []
  }
 ],
 "metadata": {
  "colab": {
   "provenance": []
  },
  "kernelspec": {
   "display_name": "Python 3 (ipykernel)",
   "language": "python",
   "name": "python3"
  },
  "language_info": {
   "codemirror_mode": {
    "name": "ipython",
    "version": 3
   },
   "file_extension": ".py",
   "mimetype": "text/x-python",
   "name": "python",
   "nbconvert_exporter": "python",
   "pygments_lexer": "ipython3",
   "version": "3.12.3"
  }
 },
 "nbformat": 4,
 "nbformat_minor": 4
}

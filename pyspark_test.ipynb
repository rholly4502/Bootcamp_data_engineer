{
 "cells": [
  {
   "cell_type": "code",
   "execution_count": 1,
   "id": "d6b3d7c3-4063-46db-8870-7cd1435c86bc",
   "metadata": {},
   "outputs": [],
   "source": [
    "from pyspark.sql import SparkSession"
   ]
  },
  {
   "cell_type": "code",
   "execution_count": 2,
   "id": "86fd9c80-5caa-4213-99ec-f9d6ab55db7f",
   "metadata": {},
   "outputs": [
    {
     "name": "stdout",
     "output_type": "stream",
     "text": [
      "C:\\anaconda3\\python.exe\n",
      "C:\\Users\\Rapid Teknologi\\AppData\\Local\\Microsoft\\WindowsApps\\python.exe\n"
     ]
    }
   ],
   "source": [
    "!where python"
   ]
  },
  {
   "cell_type": "code",
   "execution_count": 3,
   "id": "7f76b51b-0f16-48cc-a966-310918dbca8c",
   "metadata": {},
   "outputs": [],
   "source": [
    "# import os\n",
    "\n",
    "\n",
    "# # # Path ke interpreter Python\n",
    "# python_path = \"C:\\\\anaconda3\\\\python.exe\"\n",
    "\n",
    "# # # Atur variabel lingkungan\n",
    "# os.environ['PYSPARK_PYTHON'] = python_path\n",
    "# os.environ['PYSPARK_DRIVER_PYTHON'] = python_path\n",
    "# os.environ['PYSPARK_DRIVER_PYTHON_OPTS'] = 'notebook'\n",
    "\n",
    "# from pyspark.sql import SparkSession\n",
    "# Membuat SparkSession\n",
    "spark = SparkSession.builder.master(\"local[1]\")\\\n",
    "                    .appName('Pyspark job')\\\n",
    "                    .getOrCreate()\n",
    "\n",
    "\n",
    "\n",
    "# spark\n"
   ]
  },
  {
   "cell_type": "code",
   "execution_count": 4,
   "id": "be5a6e45-1eae-49ad-93f5-c548b4403253",
   "metadata": {},
   "outputs": [
    {
     "name": "stdout",
     "output_type": "stream",
     "text": [
      "Pyspark Version : 3.4.0\n",
      "Pyspark Version : 3.4.0\n",
      "<class 'pyspark.rdd.RDD'>\n"
     ]
    }
   ],
   "source": [
    "# Menampilkan versi PySpark\n",
    "print('Pyspark Version : ' + spark.version)\n",
    "print('Pyspark Version : ' + spark.sparkContext.version)\n",
    "\n",
    "# Membuat RDD dari list\n",
    "RDD1 = spark.sparkContext.parallelize([\"One\", \"Two\", \"Three\"])\n",
    "print(type(RDD1))"
   ]
  },
  {
   "cell_type": "code",
   "execution_count": 5,
   "id": "3160e200-c26b-4b82-9ab9-3ae773f35c94",
   "metadata": {},
   "outputs": [
    {
     "name": "stdout",
     "output_type": "stream",
     "text": [
      "['One', 'Two', 'Three']\n"
     ]
    }
   ],
   "source": [
    "print(RDD1.collect())"
   ]
  },
  {
   "cell_type": "code",
   "execution_count": 6,
   "id": "8c3eb8f2-280e-4f76-946a-4861379f18e6",
   "metadata": {},
   "outputs": [
    {
     "name": "stdout",
     "output_type": "stream",
     "text": [
      "['one', 'two', 'three']\n",
      "['one two', 'three']\n",
      "RDD2:  [['One', 'Two'], ['Three']]\n",
      "RDD3:  ['One', 'Two', 'Three']\n",
      "RDD4:  ['One Two', 'Three']\n",
      "RDD5:  ['O', 'n', 'e', ' ', 'T', 'w', 'o', 'T', 'h', 'r', 'e', 'e']\n"
     ]
    }
   ],
   "source": [
    "RDD2 = RDD1.map(lambda x: x.lower())\n",
    "print(RDD2.collect())\n",
    "\n",
    "RDD1 = spark.sparkContext.textFile(\"context/data.txt\")\n",
    "RDD2 = RDD1.map(lambda x:x.lower())\n",
    "print(RDD2.collect())\n",
    "\n",
    "def my_custom_func(x):\n",
    "    return x.lower()\n",
    "    RDD = RDD1.map(my_custom_func)\n",
    "    print(RDD2.collect())\n",
    "\n",
    "RDD1 = spark.sparkContext.textFile(\"context/data.txt\")\n",
    "RDD2 = RDD1.map(lambda x: x.split(\" \"))\n",
    "print(\"RDD2: \", RDD2.collect())\n",
    "\n",
    "RDD3 = RDD1.flatMap(lambda x: x.split(\" \"))\n",
    "print(\"RDD3: \", RDD3.collect())\n",
    "\n",
    "RDD4 = RDD1.map(lambda x: x)\n",
    "print(\"RDD4: \", RDD4.collect())\n",
    "\n",
    "RDD5 = RDD1.flatMap(lambda x: x)\n",
    "print(\"RDD5: \", RDD5.collect())\n"
   ]
  },
  {
   "cell_type": "code",
   "execution_count": null,
   "id": "2c0f0032-92c0-4a12-b2bb-ae0b1362ec4b",
   "metadata": {},
   "outputs": [],
   "source": []
  }
 ],
 "metadata": {
  "kernelspec": {
   "display_name": "Python 3 (ipykernel)",
   "language": "python",
   "name": "python3"
  },
  "language_info": {
   "codemirror_mode": {
    "name": "ipython",
    "version": 3
   },
   "file_extension": ".py",
   "mimetype": "text/x-python",
   "name": "python",
   "nbconvert_exporter": "python",
   "pygments_lexer": "ipython3",
   "version": "3.10.13"
  }
 },
 "nbformat": 4,
 "nbformat_minor": 5
}
